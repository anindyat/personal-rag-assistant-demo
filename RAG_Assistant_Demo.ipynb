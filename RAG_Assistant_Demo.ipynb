{
 "cells": [
  {
   "cell_type": "code",
   "execution_count": null,
   "id": "cd4c6473-5541-4b81-b8f9-28e0e8837e27",
   "metadata": {},
   "outputs": [],
   "source": [
    "!pip install pdfplumber"
   ]
  },
  {
   "cell_type": "code",
   "execution_count": 1,
   "id": "fc13fa76-02fa-4390-a97e-19cb1cfa1031",
   "metadata": {},
   "outputs": [],
   "source": [
    "# imports\n",
    "\n",
    "import os\n",
    "import glob\n",
    "from dotenv import load_dotenv\n",
    "import gradio as gr"
   ]
  },
  {
   "cell_type": "code",
   "execution_count": 2,
   "id": "2c7e5990-6f7b-4215-b972-05b7421cac79",
   "metadata": {},
   "outputs": [],
   "source": [
    "#import for Email Reading\n",
    "\n",
    "import imaplib\n",
    "import email\n",
    "from email.header import decode_header\n",
    "import pdfplumber\n",
    "import io\n",
    "from openai import OpenAI\n",
    "import requests"
   ]
  },
  {
   "cell_type": "code",
   "execution_count": 3,
   "id": "ddf36bde-b9d8-4370-a227-bfd31d7ac6d2",
   "metadata": {},
   "outputs": [],
   "source": [
    "# imports for langchain\n",
    "\n",
    "from langchain.document_loaders import DirectoryLoader, TextLoader\n",
    "from langchain.text_splitter import CharacterTextSplitter\n",
    "from langchain.schema import Document\n",
    "from langchain_openai import OpenAIEmbeddings, ChatOpenAI\n",
    "from langchain_chroma import Chroma\n",
    "import numpy as np\n",
    "from sklearn.manifold import TSNE\n",
    "import plotly.graph_objects as go\n",
    "from langchain.memory import ConversationBufferMemory\n",
    "from langchain.chains import ConversationalRetrievalChain"
   ]
  },
  {
   "cell_type": "code",
   "execution_count": 4,
   "id": "fd10983c-8d22-4bb5-8494-dcb6e9b0c5ee",
   "metadata": {},
   "outputs": [],
   "source": [
    "MODEL = \"gpt-4o-mini\"\n",
    "AUDIO_TRANSCRIBE_MODEL = \"whisper-1\"\n",
    "TEXT_TO_AUDIO_MODEL = \"gpt-4o-mini-tts\"\n",
    "db_name = \"assistant_vector_db\""
   ]
  },
  {
   "cell_type": "code",
   "execution_count": 5,
   "id": "e3fd3236-d8d2-44c6-b08a-86a5ace1eef8",
   "metadata": {},
   "outputs": [],
   "source": [
    "# Load environment variables in a file called .env\n",
    "\n",
    "load_dotenv()\n",
    "os.environ['OPENAI_API_KEY'] = os.getenv('OPENAI_API_KEY', 'your-key-if-not-using-env')\n",
    "os.environ['EMAIL_CONNECT_APP_NAME'] = os.getenv('YAHOO_CONNECT_APP_NAME', 'email-app-name-if-not-using-env')\n",
    "os.environ['EMAIL_CONNECT_APP_PASSWORD'] = os.getenv('YAHOO_CONNECT_APP_PASSWORD', 'email-app-password-if-not-using-env')\n",
    "os.environ['EMAIL_CONNECT_IMAP_SERVER'] = os.getenv('YAHOO_CONNECT_IMAP_SERVER', 'email-imap-server-if-not-using-env')\n",
    "os.environ['EMAIL_CONNECT_ACCOUNT'] = os.getenv('YAHOO_CONNECT_EMAIL_ACCOUNT', 'email-app-password-if-not-using-env')\n"
   ]
  },
  {
   "cell_type": "code",
   "execution_count": 6,
   "id": "895f1a8c-8492-4944-9aa9-c0f86c0688e1",
   "metadata": {},
   "outputs": [
    {
     "name": "stdout",
     "output_type": "stream",
     "text": [
      "IMAP Mail Server\n",
      "Your Email Address\n"
     ]
    }
   ],
   "source": [
    "# Check whether Environment Variables are Loaded \n",
    "print(os.environ['EMAIL_CONNECT_IMAP_SERVER'])\n",
    "print(os.environ['EMAIL_CONNECT_ACCOUNT'])"
   ]
  },
  {
   "cell_type": "code",
   "execution_count": 7,
   "id": "5554e0dd-bcc8-4c5c-9251-42e582e95b41",
   "metadata": {},
   "outputs": [],
   "source": [
    "# Read in family documents using LangChain's loaders\n",
    "# Take everything in all the sub-folders of the knowledgebase\n",
    "\n",
    "folders = glob.glob(\"assistant-knowledge-base/*\")\n",
    "\n",
    "text_loader_kwargs = {'encoding': 'utf-8'}\n",
    "# If that doesn't work, some Windows users might need to uncomment the next line instead\n",
    "# text_loader_kwargs={'autodetect_encoding': True}\n",
    "\n",
    "documents = []\n",
    "for folder in folders:\n",
    "    doc_type = os.path.basename(folder)\n",
    "    loader = DirectoryLoader(folder, glob=\"**/*.md\", loader_cls=TextLoader, loader_kwargs=text_loader_kwargs)\n",
    "    folder_docs = loader.load()\n",
    "    for doc in folder_docs:\n",
    "        doc.metadata[\"doc_type\"] = doc_type\n",
    "        documents.append(doc)"
   ]
  },
  {
   "cell_type": "code",
   "execution_count": 8,
   "id": "f23e6a35-f55a-44f1-929c-60509e92c03d",
   "metadata": {},
   "outputs": [
    {
     "data": {
      "text/plain": [
       "Document(metadata={'source': 'assistant-knowledge-base\\\\family\\\\Andy Tapaswi.md', 'doc_type': 'family'}, page_content='# Family Record\\n\\n# Andy Tapaswi\\n\\n## Summary\\n- **Date of Birth:** December 4, 1981\\n- **Relationship:** Father  \\n- **Profile:** Software Professional\\n- **Company:** MITRE')"
      ]
     },
     "execution_count": 8,
     "metadata": {},
     "output_type": "execute_result"
    }
   ],
   "source": [
    "documents[0]"
   ]
  },
  {
   "cell_type": "code",
   "execution_count": 9,
   "id": "55e1fdd8-c67c-4091-94f2-4fd2e0a2216c",
   "metadata": {},
   "outputs": [],
   "source": [
    "def fetch_emails_as_documents(\n",
    "    imap_server: str,\n",
    "    email_account: str,\n",
    "    app_password: str,\n",
    "    search_from: str = None,\n",
    "    search_subject: str = None,\n",
    "    since_date: str = None,       # e.g., \"01-Jan-2024\"\n",
    "    before_date: str = None,      # e.g., \"31-Dec-2024\"\n",
    "    category: str = \"General\",\n",
    "    folder: str = \"inbox\"\n",
    "):\n",
    "    \"\"\"\n",
    "    Connects to an IMAP mailbox, searches emails by optional FROM, SUBJECT,\n",
    "    and DATE filters, extracts body + PDF attachments, and returns a flat\n",
    "    list of Document objects (same structure as family records).\n",
    "    \"\"\"\n",
    "\n",
    "    documents = []\n",
    "\n",
    "    # --- Connect to IMAP ---\n",
    "    try:\n",
    "        mail = imaplib.IMAP4_SSL(imap_server)\n",
    "        mail.login(email_account, app_password)\n",
    "        mail.select(folder)\n",
    "    except Exception as e:\n",
    "        print(f\"❌ IMAP connection/login failed: {e}\")\n",
    "        return documents\n",
    "\n",
    "    # --- Build search query dynamically ---\n",
    "    query_parts = []\n",
    "    if search_from:\n",
    "        query_parts.append(f'(FROM \"{search_from}\")')\n",
    "    if search_subject:\n",
    "        query_parts.append(f'(SUBJECT \"{search_subject}\")')\n",
    "    if since_date:\n",
    "        query_parts.append(f'(SINCE \"{since_date}\")')\n",
    "    if before_date:\n",
    "        query_parts.append(f'(BEFORE \"{before_date}\")')\n",
    "\n",
    "    query = \" \".join(query_parts) if query_parts else \"ALL\"\n",
    "\n",
    "    # --- Perform IMAP search ---\n",
    "    try:\n",
    "        status, messages = mail.search(None, query)\n",
    "        email_ids = messages[0].split()\n",
    "        print(f\"🔍 Found {len(email_ids)} email(s) using query: {query}\")\n",
    "    except Exception as e:\n",
    "        print(f\"❌ IMAP search failed: {e}\")\n",
    "        return documents\n",
    "\n",
    "    if not email_ids:\n",
    "        print(\"No matching emails found.\")\n",
    "        return documents\n",
    "\n",
    "    # --- Process each email ---\n",
    "    for eid in email_ids:\n",
    "        try:\n",
    "            status, msg_data = mail.fetch(eid, \"(RFC822)\")\n",
    "            msg = email.message_from_bytes(msg_data[0][1])\n",
    "\n",
    "            email_body = \"\"\n",
    "            pdf_text = \"\"\n",
    "            email_subject = msg[\"subject\"] or \"\"\n",
    "            email_from = msg[\"from\"] or \"\"\n",
    "            email_date = msg[\"date\"] or \"\"\n",
    "\n",
    "            # --- Extract text + PDF ---\n",
    "            for part in msg.walk():\n",
    "                content_type = part.get_content_type()\n",
    "                content_disposition = str(part.get(\"Content-Disposition\") or \"\")\n",
    "\n",
    "                # Extract plain text body\n",
    "                if content_type == \"text/plain\" and \"attachment\" not in content_disposition:\n",
    "                    try:\n",
    "                        email_body += part.get_payload(decode=True).decode(errors=\"ignore\")\n",
    "                    except Exception:\n",
    "                        pass\n",
    "\n",
    "                # Extract PDF text\n",
    "                if \"application/pdf\" in content_type:\n",
    "                    file_data = part.get_payload(decode=True)\n",
    "                    with pdfplumber.open(io.BytesIO(file_data)) as pdf:\n",
    "                        for page in pdf.pages:\n",
    "                            text = page.extract_text()\n",
    "                            if text:\n",
    "                                pdf_text += text + \"\\n\"\n",
    "\n",
    "            # --- Add email body as Document ---\n",
    "            if email_body.strip():\n",
    "                documents.append(\n",
    "                    Document(\n",
    "                        page_content=email_body.strip(),\n",
    "                        metadata={\n",
    "                            \"source\": email_from,\n",
    "                            \"subject\": email_subject,\n",
    "                            \"date\": email_date,\n",
    "                            \"category\": category,\n",
    "                            \"part\": \"body\",\n",
    "                            \"doc_type\": \"email\"\n",
    "                        }\n",
    "                    )\n",
    "                )\n",
    "\n",
    "            # --- Add PDF content as Document ---\n",
    "            if pdf_text.strip():\n",
    "                documents.append(\n",
    "                    Document(\n",
    "                        page_content=pdf_text.strip(),\n",
    "                        metadata={\n",
    "                            \"source\": email_from,\n",
    "                            \"subject\": email_subject,\n",
    "                            \"date\": email_date,\n",
    "                            \"category\": category,\n",
    "                            \"part\": \"attachment\",\n",
    "                            \"doc_type\": \"email\"\n",
    "                        }\n",
    "                    )\n",
    "                )\n",
    "\n",
    "        except Exception as e:\n",
    "            print(f\"⚠️ Error processing email ID {eid}: {e}\")\n",
    "            continue\n",
    "\n",
    "    print(f\"✅ Added {len(documents)} Document objects (emails + attachments).\")\n",
    "    return documents\n"
   ]
  },
  {
   "cell_type": "code",
   "execution_count": 10,
   "id": "f567968d-3e72-40a5-8c0f-688180cc5c3d",
   "metadata": {},
   "outputs": [
    {
     "name": "stdout",
     "output_type": "stream",
     "text": [
      "Initial records in documents: 2\n",
      "🔍 Found 1 email(s) using query: (FROM \"info@metrowesteye.com\") (SUBJECT \"EYEGLASS RX\") (SINCE \"01-Jan-2024\")\n",
      "✅ Added 2 Document objects (emails + attachments).\n",
      "✅ Total combined documents: 4\n",
      "🔍 Found 4 email(s) using query: (FROM \"KLovely@natickps.org\") (SINCE \"01-Jan-2024\")\n",
      "✅ Added 4 Document objects (emails + attachments).\n"
     ]
    }
   ],
   "source": [
    "# Assuming environment vars already set\n",
    "IMAP_SERVER = os.environ['EMAIL_CONNECT_IMAP_SERVER']\n",
    "EMAIL_ACCOUNT = os.environ['EMAIL_CONNECT_ACCOUNT']\n",
    "APP_PASSWORD = os.environ['EMAIL_CONNECT_APP_PASSWORD']\n",
    "\n",
    "# Existing global list (already contains family data)\n",
    "print(f\"Initial records in documents: {len(documents)}\")\n",
    "\n",
    "# Fetch emails — any combination of filters\n",
    "eye_docs = fetch_emails_as_documents(\n",
    "    imap_server=IMAP_SERVER,\n",
    "    email_account=EMAIL_ACCOUNT,\n",
    "    app_password=APP_PASSWORD,\n",
    "    search_from=\"<Enter From Email Address>\",\n",
    "    search_subject=\"<ENter Specific Subject>\",\n",
    "    since_date=\"01-Jan-2024\",\n",
    "    category=\"<Category - for me it was Healthcare>\"\n",
    ")\n",
    "\n",
    "# Merge into main list\n",
    "documents.extend(eye_docs)\n",
    "\n",
    "print(f\"✅ Total combined documents: {len(documents)}\")\n",
    "\n",
    "# Fetch emails — any combination of filters\n",
    "eye_docs = fetch_emails_as_documents(\n",
    "    imap_server=IMAP_SERVER,\n",
    "    email_account=EMAIL_ACCOUNT,\n",
    "    app_password=APP_PASSWORD,\n",
    "    search_from=\"<enter your Email Address>\",\n",
    "    since_date=\"01-Jan-2024\",\n",
    "    category=\"<Category, for me it was School>\"\n",
    ")\n",
    "\n",
    "# Merge into main list\n",
    "documents.extend(eye_docs)\n"
   ]
  },
  {
   "cell_type": "code",
   "execution_count": 11,
   "id": "385b2792-5942-42ca-ba62-62830669a6e1",
   "metadata": {},
   "outputs": [
    {
     "name": "stdout",
     "output_type": "stream",
     "text": [
      "page_content='Hello,\n",
      "\n",
      "Please see attached for your daughter's eyeglass prescription!\n",
      "\n",
      "Liz\n",
      "\n",
      "*Dr. Yen Tran-**Pan**tano, O.D.*\n",
      "metrowesteye.com\n",
      "*508-655-1400*\n",
      "*81 Speen Street*\n",
      "\n",
      "*Natick, MA 01760*' metadata={'source': 'Metrowest Family Eye Care <info@metrowesteye.com>', 'subject': 'EYEGLASS RX', 'date': 'Mon, 9 Jun 2025 13:58:58 -0400', 'category': 'Vision Care', 'part': 'body', 'doc_type': 'email'}\n"
     ]
    }
   ],
   "source": [
    "print(documents[2])"
   ]
  },
  {
   "cell_type": "code",
   "execution_count": 12,
   "id": "202e79f9-eef8-4cec-9335-fa96bc882591",
   "metadata": {},
   "outputs": [],
   "source": [
    "text_splitter = CharacterTextSplitter(chunk_size=1000, chunk_overlap=200)\n",
    "chunks = text_splitter.split_documents(documents)"
   ]
  },
  {
   "cell_type": "code",
   "execution_count": 13,
   "id": "0f9655b1-93d0-4e9b-9176-82f695dd13d9",
   "metadata": {},
   "outputs": [
    {
     "data": {
      "text/plain": [
       "8"
      ]
     },
     "execution_count": 13,
     "metadata": {},
     "output_type": "execute_result"
    }
   ],
   "source": [
    "len(chunks)"
   ]
  },
  {
   "cell_type": "code",
   "execution_count": 14,
   "id": "d0ea5338-0048-49b6-90cc-25912b956d20",
   "metadata": {},
   "outputs": [
    {
     "name": "stdout",
     "output_type": "stream",
     "text": [
      "Document types found: family, email\n"
     ]
    }
   ],
   "source": [
    "doc_types = set(chunk.metadata['doc_type'] for chunk in chunks)\n",
    "print(f\"Document types found: {', '.join(doc_types)}\")"
   ]
  },
  {
   "cell_type": "code",
   "execution_count": 15,
   "id": "f022f90a-05c4-4aac-b53b-4198aa61b27e",
   "metadata": {},
   "outputs": [],
   "source": [
    "# Put the chunks of data into a Vector Store that associates a Vector Embedding with each chunk\n",
    "\n",
    "embeddings = OpenAIEmbeddings()\n",
    "\n",
    "# If you would rather use the free Vector Embeddings from HuggingFace sentence-transformers\n",
    "# Then replace embeddings = OpenAIEmbeddings()\n",
    "# with:\n",
    "# from langchain.embeddings import HuggingFaceEmbeddings\n",
    "# embeddings = HuggingFaceEmbeddings(model_name=\"sentence-transformers/all-MiniLM-L6-v2\")"
   ]
  },
  {
   "cell_type": "code",
   "execution_count": 16,
   "id": "e7a5a1f2-c3c7-4bc5-b18f-2f21fb5296ee",
   "metadata": {},
   "outputs": [],
   "source": [
    "# Check if a Chroma Datastore already exists - if so, delete the collection to start from scratch\n",
    "\n",
    "if os.path.exists(db_name):\n",
    "    Chroma(persist_directory=db_name, embedding_function=embeddings).delete_collection()"
   ]
  },
  {
   "cell_type": "code",
   "execution_count": 17,
   "id": "4c3e511d-33d2-4ed4-b9d4-84858ba6a60b",
   "metadata": {},
   "outputs": [
    {
     "name": "stdout",
     "output_type": "stream",
     "text": [
      "Vectorstore created with 8 documents\n"
     ]
    }
   ],
   "source": [
    "# Create our Chroma vectorstore!\n",
    "\n",
    "vectorstore = Chroma.from_documents(documents=chunks, embedding=embeddings, persist_directory=db_name)\n",
    "print(f\"Vectorstore created with {vectorstore._collection.count()} documents\")"
   ]
  },
  {
   "cell_type": "code",
   "execution_count": 18,
   "id": "0cd31bb5-492a-4fd8-9e60-2013cbcdcd48",
   "metadata": {},
   "outputs": [
    {
     "name": "stdout",
     "output_type": "stream",
     "text": [
      "The vectors have 1,536 dimensions\n"
     ]
    }
   ],
   "source": [
    "# Get one vector and find how many dimensions it has\n",
    "\n",
    "collection = vectorstore._collection\n",
    "sample_embedding = collection.get(limit=1, include=[\"embeddings\"])[\"embeddings\"][0]\n",
    "dimensions = len(sample_embedding)\n",
    "print(f\"The vectors have {dimensions:,} dimensions\")"
   ]
  },
  {
   "cell_type": "code",
   "execution_count": 19,
   "id": "3bdb7cb3-93f6-4a34-96ad-59f33b915314",
   "metadata": {},
   "outputs": [
    {
     "data": {
      "text/plain": [
       "array([-0.0066553 , -0.00715228, -0.02628758, ..., -0.02094943,\n",
       "       -0.01834987, -0.00941821])"
      ]
     },
     "execution_count": 19,
     "metadata": {},
     "output_type": "execute_result"
    }
   ],
   "source": [
    "sample_embedding"
   ]
  },
  {
   "cell_type": "code",
   "execution_count": 20,
   "id": "fbf436d5-5c06-482c-a4a4-5775d70ad458",
   "metadata": {},
   "outputs": [
    {
     "name": "stderr",
     "output_type": "stream",
     "text": [
      "C:\\Users\\anind\\AppData\\Local\\Temp\\ipykernel_18940\\3183950975.py:5: LangChainDeprecationWarning: Please see the migration guide at: https://python.langchain.com/docs/versions/migrating_memory/\n",
      "  memory = ConversationBufferMemory(memory_key='chat_history', return_messages=True)\n"
     ]
    }
   ],
   "source": [
    "# create a new Chat with OpenAI\n",
    "llm = ChatOpenAI(temperature=0.7, model_name=MODEL)\n",
    "\n",
    "# set up the conversation memory for the chat\n",
    "memory = ConversationBufferMemory(memory_key='chat_history', return_messages=True)\n",
    "\n",
    "# the retriever is an abstraction over the VectorStore that will be used during RAG\n",
    "retriever = vectorstore.as_retriever()\n",
    "\n",
    "# putting it together: set up the conversation chain with the GPT 4o-mini LLM, the vector store and memory\n",
    "conversation_chain = ConversationalRetrievalChain.from_llm(llm=llm, retriever=retriever, memory=memory)"
   ]
  },
  {
   "cell_type": "code",
   "execution_count": 21,
   "id": "cfd5a571-8956-4633-8c09-1a88d7acd678",
   "metadata": {},
   "outputs": [
    {
     "name": "stdout",
     "output_type": "stream",
     "text": [
      "Apurba's Vision Care Doctor is Yen Tran-Pantano, OD. The left eye measurements for ordering glasses are as follows:\n",
      "\n",
      "- Sphere: -4.00\n",
      "- Cyl: -1.00\n",
      "- Axis: 170\n"
     ]
    }
   ],
   "source": [
    "query = \"Who is my daughter's eye Doctor and tell me the left eye measurements for ordering glasses?\"\n",
    "result = conversation_chain.invoke({\"question\":query})\n",
    "print(result[\"answer\"])"
   ]
  },
  {
   "cell_type": "code",
   "execution_count": 22,
   "id": "9c52742b-f8af-4913-9d62-e45ad8ca2cdf",
   "metadata": {},
   "outputs": [],
   "source": [
    "# set up a new conversation memory for the chat\n",
    "memory = ConversationBufferMemory(memory_key='chat_history', return_messages=True)\n",
    "\n",
    "# putting it together: set up the conversation chain with the GPT 4o-mini LLM, the vector store and memory\n",
    "conversation_chain = ConversationalRetrievalChain.from_llm(llm=llm, retriever=retriever, memory=memory)"
   ]
  },
  {
   "cell_type": "code",
   "execution_count": 23,
   "id": "ba8250e9-533d-448b-9d20-6f7087486e1e",
   "metadata": {},
   "outputs": [],
   "source": [
    "openai_client = OpenAI()"
   ]
  },
  {
   "cell_type": "code",
   "execution_count": 24,
   "id": "fcebe065-d5de-4525-9ba9-ef1248f61eb3",
   "metadata": {},
   "outputs": [],
   "source": [
    "# Audio to Text\n",
    "def audio_to_text(audio_path: str) -> str:\n",
    "    \"\"\"\n",
    "    Transcribes an audio file into text using OpenAI Whisper.\n",
    "    \"\"\"\n",
    "    try:\n",
    "        with open(audio_path, \"rb\") as f:\n",
    "            transcript = openai_client.audio.transcriptions.create(\n",
    "                model=\"whisper-1\",\n",
    "                file=f,\n",
    "                response_format=\"text\"\n",
    "            )\n",
    "        text = transcript.strip()\n",
    "        print(f\"🎧 Transcribed: {text}\")\n",
    "        return text\n",
    "    except Exception as e:\n",
    "        return f\"⚠️ Error during transcription: {str(e)}\"\n"
   ]
  },
  {
   "cell_type": "code",
   "execution_count": 25,
   "id": "69ae1bf2-b8cb-41a6-b10b-e27a8e556b00",
   "metadata": {},
   "outputs": [],
   "source": [
    "def text_to_speech(answer_text: str, output_file=\"response.mp3\") -> str:\n",
    "    \"\"\"\n",
    "    Converts text to speech using OpenAI TTS.\n",
    "    Returns path to the generated audio file.\n",
    "    \"\"\"\n",
    "    try:\n",
    "        speech = openai_client.audio.speech.create(\n",
    "            model=TEXT_TO_AUDIO_MODEL,\n",
    "            voice=\"alloy\",   # you can try \"verse\", \"coral\", etc.\n",
    "            input=answer_text\n",
    "        )\n",
    "        with open(output_file, \"wb\") as f:\n",
    "            f.write(speech.read())\n",
    "        return output_file\n",
    "    except Exception as e:\n",
    "        print(\"TTS Error:\", e)\n",
    "        return None\n"
   ]
  },
  {
   "cell_type": "code",
   "execution_count": 26,
   "id": "37db65b1-d2b6-4d96-a7d2-1fc0523112d4",
   "metadata": {},
   "outputs": [],
   "source": [
    "def ask_rag(question: str) -> str:\n",
    "    \"\"\"\n",
    "    Sends a text question to the ConversationalRetrievalChain and returns an answer.\n",
    "    \"\"\"\n",
    "    try:\n",
    "        response = conversation_chain.invoke({\"question\": question})\n",
    "        answer = response.get(\"answer\", \"⚠️ No response generated.\")\n",
    "        print(f\"💬 Answer: {answer}\")\n",
    "        return answer\n",
    "    except Exception as e:\n",
    "        return f\"⚠️ Error during RAG query: {str(e)}\"\n"
   ]
  },
  {
   "cell_type": "code",
   "execution_count": 27,
   "id": "1058a429-7d41-40c0-9c44-fe6238c940e6",
   "metadata": {},
   "outputs": [],
   "source": [
    "def voice_to_rag(audio_path: str):\n",
    "    \"\"\"\n",
    "    Full pipeline: audio → text → RAG → speech.\n",
    "    \"\"\"\n",
    "    question = audio_to_text(audio_path)\n",
    "    if question.startswith(\"⚠️\"):\n",
    "        return question, None\n",
    "\n",
    "    answer = ask_rag(question)\n",
    "\n",
    "    # Convert answer to speech\n",
    "    tts_file = text_to_speech(answer)\n",
    "\n",
    "    response_text = f\"🗣️ You asked: {question}\\n\\n💬 Answer: {answer}\"\n",
    "    return response_text, tts_file\n"
   ]
  },
  {
   "cell_type": "code",
   "execution_count": 28,
   "id": "412b9517-0efd-4eb8-a09e-464c7a63796f",
   "metadata": {},
   "outputs": [],
   "source": [
    "def launch_gradio():\n",
    "    gr.Interface(\n",
    "        fn=voice_to_rag,\n",
    "        inputs=gr.Audio(type=\"filepath\", label=\"🎙️ Ask your question\"),\n",
    "        outputs=[\n",
    "            gr.Textbox(label=\"Transcription and Answer\"),\n",
    "            gr.Audio(label=\"🔊 Hear the Answer\")\n",
    "        ],\n",
    "        title=\"Andy's RAG Assistant\",\n",
    "        description=\"Andy's Personal RAG answers it.\",\n",
    "    ).launch(inbrowser=True)\n"
   ]
  },
  {
   "cell_type": "code",
   "execution_count": 29,
   "id": "494ac6a1-779d-42d5-b53e-cd9610e3c306",
   "metadata": {},
   "outputs": [
    {
     "name": "stdout",
     "output_type": "stream",
     "text": [
      "* Running on local URL:  http://127.0.0.1:7860\n",
      "\n",
      "To create a public link, set `share=True` in `launch()`.\n"
     ]
    },
    {
     "data": {
      "text/html": [
       "<div><iframe src=\"http://127.0.0.1:7860/\" width=\"100%\" height=\"500\" allow=\"autoplay; camera; microphone; clipboard-read; clipboard-write;\" frameborder=\"0\" allowfullscreen></iframe></div>"
      ],
      "text/plain": [
       "<IPython.core.display.HTML object>"
      ]
     },
     "metadata": {},
     "output_type": "display_data"
    }
   ],
   "source": [
    "launch_gradio()"
   ]
  },
  {
   "cell_type": "code",
   "execution_count": null,
   "id": "5f457294-24f1-45b4-93b6-83beddabcf58",
   "metadata": {},
   "outputs": [],
   "source": []
  }
 ],
 "metadata": {
  "kernelspec": {
   "display_name": "Python 3 (ipykernel)",
   "language": "python",
   "name": "python3"
  },
  "language_info": {
   "codemirror_mode": {
    "name": "ipython",
    "version": 3
   },
   "file_extension": ".py",
   "mimetype": "text/x-python",
   "name": "python",
   "nbconvert_exporter": "python",
   "pygments_lexer": "ipython3",
   "version": "3.11.11"
  }
 },
 "nbformat": 4,
 "nbformat_minor": 5
}
